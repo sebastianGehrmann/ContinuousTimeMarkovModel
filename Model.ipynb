{
 "cells": [
  {
   "cell_type": "code",
   "execution_count": 28,
   "metadata": {
    "collapsed": false
   },
   "outputs": [],
   "source": [
    "%matplotlib inline\n",
    "import argparse\n",
    "from pickle import load\n",
    "\n",
    "import numpy as np\n",
    "import theano\n",
    "import theano.tensor as TT\n",
    "from pymc3 import Model, sample, Dirichlet, Potential, Beta, NUTS, Constant\n",
    "from helpers.forwardS import ForwardS\n",
    "from helpers.forwardX import ForwardX\n",
    "\n",
    "from scipy.special import logit\n",
    "from theano.tensor import as_tensor_variable\n",
    "\n",
    "from helpers.distributions import Beta_with_anchors\n",
    "from helpers.distributions import Claims\n",
    "from helpers.distributions import Comorbidities\n",
    "from helpers.distributions import DiscreteObsMJP\n",
    "from helpers.distributions import DiscreteObsMJP_unif_prior\n",
    "from helpers.theanomod import DES_diff\n",
    "\n",
    "import matplotlib.pyplot as plt\n",
    "import seaborn as sns"
   ]
  },
  {
   "cell_type": "code",
   "execution_count": null,
   "metadata": {
    "collapsed": true
   },
   "outputs": [],
   "source": []
  },
  {
   "cell_type": "code",
   "execution_count": 29,
   "metadata": {
    "collapsed": false
   },
   "outputs": [],
   "source": [
    "# args from argparse\n",
    "datadir = \"data/converted/\"\n",
    "sampleNum = 25 # number sample iterations\n",
    "truncN = 5 # number people\n",
    "progressbar = True\n",
    "profile = False\n",
    "seed = 111\n",
    "const = []"
   ]
  },
  {
   "cell_type": "code",
   "execution_count": 30,
   "metadata": {
    "collapsed": false,
    "scrolled": true
   },
   "outputs": [
    {
     "name": "stdout",
     "output_type": "stream",
     "text": [
      "loading files\n",
      "pi\n",
      "[ 0.853056  0.078729  0.004156  0.064059]\n",
      "Q\n",
      "[[-0.073202  0.073202  0.        0.      ]\n",
      " [ 0.       -0.095009  0.095009  0.      ]\n",
      " [ 0.        0.       -0.853733  0.853733]\n",
      " [ 0.        0.        0.       -0.      ]]\n",
      "S\n",
      "[0 0 0 ..., 3 3 3]\n",
      "B\n",
      "[[  1.00000000e-06   8.30000000e-01   1.00000000e-01   5.50000000e-01]\n",
      " [  1.00000000e-06   5.80000000e-01   6.00000000e-02   3.40000000e-01]\n",
      " [  1.00000000e-06   1.00000000e-01   5.20000000e-01   1.30000000e-01]\n",
      " [  1.00000000e-06   8.00000000e-02   7.00000000e-02   3.50000000e-01]]\n",
      "B0\n",
      "[[ 0.666014  0.666014  0.666014  0.998099]\n",
      " [ 0.29124   0.291242  0.861111  0.89924 ]\n",
      " [ 0.264778  0.264778  0.264778  0.264778]\n",
      " [ 0.101612  0.101612  0.101612  0.101612]]\n",
      "X\n",
      "[[1 0 1 0]\n",
      " [1 0 1 0]\n",
      " [1 0 1 0]\n",
      " ..., \n",
      " [1 0 1 0]\n",
      " [1 0 1 0]\n",
      " [1 0 1 0]]\n",
      "Z\n",
      "[[  1.00000000e-06   1.00000000e-06   1.00000000e-06   5.00000000e-01\n",
      "    1.00000000e-06   3.00000000e-02   1.00000000e-06   4.00000000e-02\n",
      "    1.00000000e-01   1.00000000e-02   1.00000000e-02   1.00000000e-02\n",
      "    1.00000000e-02   1.00000000e-02   8.00000000e-02   1.00000000e-01]\n",
      " [  1.00000000e-06   1.00000000e-06   1.00000000e-06   1.00000000e-06\n",
      "    1.00000000e-06   1.00000000e-01   1.00000000e-01   2.00000000e-01\n",
      "    1.00000000e-06   4.00000000e-02   8.00000000e-02   1.00000000e-01\n",
      "    1.00000000e-02   1.00000000e-02   1.00000000e-06   1.00000000e-06]\n",
      " [  1.50000000e-01   6.50000000e-01   1.00000000e-06   1.00000000e-06\n",
      "    1.00000000e-06   1.00000000e-02   1.00000000e-06   1.00000000e-02\n",
      "    1.00000000e-06   1.00000000e-02   1.00000000e-02   1.00000000e-02\n",
      "    8.00000000e-02   1.00000000e-02   1.00000000e-06   1.00000000e-06]\n",
      " [  1.00000000e-06   1.00000000e-06   1.00000000e-01   1.00000000e-06\n",
      "    1.50000000e-01   2.00000000e-02   1.00000000e-06   3.00000000e-02\n",
      "    1.00000000e-06   3.00000000e-01   6.00000000e-02   1.00000000e-02\n",
      "    1.00000000e-02   1.00000000e-02   1.00000000e-06   1.00000000e-06]]\n",
      "L\n",
      "[  1.00000000e-06   1.00000000e-06   1.00000000e-06   1.00000000e-06\n",
      "   1.00000000e-06   1.00000000e-02   1.00000000e-06   1.00000000e-02\n",
      "   1.00000000e-06   2.00000000e-02   2.00000000e-02   3.00000000e-02\n",
      "   3.00000000e-01   2.00000000e-01   1.00000000e-06   1.00000000e-06]\n",
      "obs_jumps\n",
      "[0 1 2 ..., 1 1 1]\n",
      "T\n",
      "[30 33 14 ...,  7 33 29]\n",
      "O\n",
      "[[ 0  1  2 ..., -1 -1 -1]\n",
      " [ 3  4  1 ..., -1 -1 -1]\n",
      " [ 1  2 -1 ..., -1 -1 -1]\n",
      " ..., \n",
      " [13  3  4 ..., -1 -1 -1]\n",
      " [ 3  8  9 ..., -1 -1 -1]\n",
      " [15 13  3 ..., -1 -1 -1]]\n",
      "anchors\n",
      "[(0, [3, 4, 11]), (1, [14]), (2, [13, 15]), (3, [7, 6])]\n"
     ]
    }
   ],
   "source": [
    "if profile:\n",
    "    theano.config.profile = True\n",
    "# Utility function to load preprocessed files\n",
    "def read_pkl(fname):\n",
    "    print fname\n",
    "    with open(datadir + fname + \".pkl\", 'rb') as f:\n",
    "        d =  load(f)\n",
    "        print d\n",
    "        return d\n",
    "\n",
    "print \"loading files\"\n",
    "\n",
    "# D = #Clinical Findings, N = #Patients, M = #States, K = #Comorbidities\n",
    "pi_start = read_pkl('pi') # State distribution,              Size M\n",
    "Q_start = read_pkl('Q')   # Transition Matrix,               Size M x M\n",
    "S_start = read_pkl(\"S\")   # initial State for each patient,  Size N\n",
    "B_start = read_pkl(\"B\")   # Onset Prob for Comorbs,          Size K x M\n",
    "B0_start = read_pkl(\"B0\") # Onset Prob for Comorb at time 0, Size K x M\n",
    "X_start = read_pkl(\"X\")   # Comorbidities for each patient,  Size P x K\n",
    "Z_start = read_pkl(\"Z\")   # Onset Prob for Clinical Codes,   Size K x D\n",
    "L_start = read_pkl(\"L\")   # Leak Prob for Clinical Codes,    Size D\n",
    "# obs_jumps[o]: number of time periods that have passed between observation o and o-1, Size D\n",
    "obs_jumps = read_pkl(\"obs_jumps\")\n",
    "# T[n]: total number of observations of patient n, Size N\n",
    "T = read_pkl(\"T\")\n",
    "# O[o,:]: claims numbers present at observation o padded by -1's, Size (D, maxFindings)\n",
    "O = read_pkl(\"O\")\n",
    "# List of Anchors\n",
    "anchors = read_pkl(\"anchors\")"
   ]
  },
  {
   "cell_type": "code",
   "execution_count": 31,
   "metadata": {
    "collapsed": false
   },
   "outputs": [
    {
     "name": "stdout",
     "output_type": "stream",
     "text": [
      "0.9.0\n",
      "0.16.0\n",
      "/Users/Sebastian/anaconda2/lib/python2.7/site-packages/pymc3/__init__.pyc\n",
      "1.12.1\n"
     ]
    }
   ],
   "source": [
    "print theano.__version__\n",
    "import scipy\n",
    "print scipy.__version__\n",
    "import pymc3\n",
    "print pymc3.__file__\n",
    "print np.__version__"
   ]
  },
  {
   "cell_type": "code",
   "execution_count": 32,
   "metadata": {
    "collapsed": false
   },
   "outputs": [
    {
     "name": "stdout",
     "output_type": "stream",
     "text": [
      "Truncate to max 5 #people based on args.truncN\n"
     ]
    }
   ],
   "source": [
    "print \"Truncate to max\", truncN,\"#people based on args.truncN\"\n",
    "if truncN is not None:\n",
    "    T = T[:truncN]\n",
    "    nObs = T.sum()\n",
    "    S_start = S_start[0:nObs]\n",
    "    obs_jumps = obs_jumps[0:nObs]\n",
    "    X_start = X_start[0:nObs]\n",
    "    O = O[0:nObs]\n",
    "\n",
    "nObs = S_start.shape[0]  # Number of observations\n",
    "N = T.shape[0]           # Number of patients\n",
    "M = pi_start.shape[0]    # Number of hidden states\n",
    "K = Z_start.shape[0]     # Number of comorbidities\n",
    "D = Z_start.shape[1]     # Number of claims\n",
    "Dmax = O.shape[1]        # Maximum number of claims that can occur at once"
   ]
  },
  {
   "cell_type": "code",
   "execution_count": 33,
   "metadata": {
    "collapsed": false
   },
   "outputs": [
    {
     "name": "stdout",
     "output_type": "stream",
     "text": [
      "Apply Mask on Anchors\n"
     ]
    }
   ],
   "source": [
    "print \"Apply Mask on Anchors\"\n",
    "\n",
    "# Assumption that icd9-anchors are exclusive\n",
    "# For all the fixed assignments to comorbs, set all other probabilities in Z to 0\n",
    "mask = np.ones((K, D))\n",
    "for anchor in anchors:\n",
    "    for hold in anchor[1]:\n",
    "        mask[:, hold] = 0\n",
    "        mask[anchor[0], hold] = 1\n",
    "Z_start = Z_start[mask.nonzero()]"
   ]
  },
  {
   "cell_type": "code",
   "execution_count": 46,
   "metadata": {
    "collapsed": false
   },
   "outputs": [
    {
     "name": "stdout",
     "output_type": "stream",
     "text": [
      "Transform initial params to log probs\n"
     ]
    }
   ],
   "source": [
    "print \"Transform initial params to log probs\"\n",
    "# Transform the initial parameters to log probs\n",
    "# Q_raw is just forward probability from 1 to 2, 2 to 3 etc.\n",
    "Q_raw = []\n",
    "for i in range(Q_start.shape[0] - 1):\n",
    "    Q_raw.append(Q_start[i, i + 1])\n",
    "Q_raw_log = logit(np.asarray(Q_raw))\n",
    "\n",
    "B_lo = logit(B_start)\n",
    "B0_lo = logit(B0_start)\n",
    "Z_lo = logit(Z_start)\n",
    "L_lo = logit(L_start)\n",
    "\n",
    "start = {'Q_ratematrixoneway_': Q_raw_log, 'B_logodds_': B_lo, \n",
    "         'B0_logodds_': B0_lo, 'S': S_start, 'X': X_start,\n",
    "         'Z_anchoredbeta_': Z_lo, 'L_logodds_': L_lo}\n"
   ]
  },
  {
   "cell_type": "code",
   "execution_count": 47,
   "metadata": {
    "collapsed": false
   },
   "outputs": [
    {
     "name": "stdout",
     "output_type": "stream",
     "text": [
      "start q\n",
      "[[ 0.5  0.5  0.5  0.5]\n",
      " [ 0.5  0.5  0.5  0.5]\n",
      " [ 0.5  0.5  0.5  0.5]\n",
      " [ 0.5  0.5  0.5  0.5]]\n",
      "v\n",
      "Elemwise{add,no_inplace}.0\n",
      "Elemwise{add,no_inplace}.0\n",
      "end q\n",
      "model initialized\n"
     ]
    }
   ],
   "source": [
    "# Initialize the PyMC model, set variables with priors\n",
    "model = Model()\n",
    "with model:\n",
    "    # pi[m]: probability of starting in disease state m\n",
    "    pi = Dirichlet('pi', a=as_tensor_variable(pi_start.copy()), shape=M)\n",
    "    # opt. constraint on pi - add a penalty that makes sure that every value in pi is > .001\n",
    "    pi_min_potential = Potential('pi_min_potential', TT.switch(TT.min(pi) < .001, -np.inf, 0))\n",
    "\n",
    "    print \"start q\"\n",
    "    # exp(t*Q)[m,m']: probability of transitioning from disease state m to m' after a period of time t\n",
    "    Q = DiscreteObsMJP_unif_prior('Q', M=M, lower=0.0, upper=1.0, shape=(M, M))\n",
    "    \n",
    "    print \"end q\"\n",
    "\n",
    "    # Define probability distribution, has potential to compute C for E-step and time jumps\n",
    "    S = DiscreteObsMJP('S', pi=pi, Q=Q, M=M, nObs=nObs, observed_jumps=obs_jumps, T=T, shape=(nObs))\n",
    "\n",
    "    # Comorbidity onset probabilities B, and Z and L Beta priors (p.4, because conjugate for bernoulli)\n",
    "    B0 = Beta('B0', alpha=1., beta=1., shape=(K, M))\n",
    "    # constrain B0 to be monotonous\n",
    "    B0_monotonicity_constraint = Potential('B0_monotonicity_constraint',\n",
    "                                           TT.switch(TT.min(DES_diff(B0)) < 0., 100.0 * TT.min(DES_diff(B0)), 0))\n",
    "\n",
    "    B = Beta('B', alpha=1., beta=1., shape=(K, M))\n",
    "\n",
    "    X = Comorbidities('X', S=S, B0=B0, B=B, T=T, shape=(nObs, K))\n",
    "    # Extension of Beta here because anchors have to be fixed, keeps mask on Beta\n",
    "    Z = Beta_with_anchors('Z', anchors=anchors, K=K, D=D, alpha=0.1, beta=1., shape=(K, D))\n",
    "    L = Beta('L', alpha=1., beta=1., shape=D)\n",
    "    O_obs = Claims('O_obs', X=X, Z=Z, L=L, T=T, D=D, O_input=O, shape=(nObs, Dmax), observed=O)\n",
    "\n",
    "print \"model initialized\"\n",
    "\n"
   ]
  },
  {
   "cell_type": "code",
   "execution_count": 52,
   "metadata": {
    "collapsed": false,
    "scrolled": true
   },
   "outputs": [
    {
     "name": "stdout",
     "output_type": "stream",
     "text": [
      "S\n",
      "Elemwise{add,no_inplace}.0\n",
      "B\n",
      "X\n",
      "Z\n",
      "L\n"
     ]
    },
    {
     "name": "stderr",
     "output_type": "stream",
     "text": [
      "\n",
      "\n",
      "\n",
      "\n",
      "\r",
      "  0%|          | 0/25 [00:00<?, ?it/s]"
     ]
    },
    {
     "name": "stdout",
     "output_type": "stream",
     "text": [
      "sample\n"
     ]
    },
    {
     "name": "stderr",
     "output_type": "stream",
     "text": [
      "\u001b[A\u001b[A\u001b[A\u001b[A\n",
      "\n",
      "\n",
      "\n",
      "  4%|▍         | 1/25 [00:01<00:27,  1.14s/it]\u001b[A\u001b[A\u001b[A\u001b[A\n",
      "\n",
      "\n",
      "\n",
      " 12%|█▏        | 3/25 [00:01<00:20,  1.09it/s]\u001b[A\u001b[A\u001b[A\u001b[A\n",
      "\n",
      "\n",
      "\n",
      " 16%|█▌        | 4/25 [00:22<02:21,  6.76s/it]\u001b[A\u001b[A\u001b[A\u001b[A\n",
      "\n",
      "\n",
      "\n",
      " 20%|██        | 5/25 [01:09<06:15, 18.77s/it]\u001b[A\u001b[A\u001b[A\u001b[A\n",
      "\n",
      "\n",
      "\n",
      " 24%|██▍       | 6/25 [01:27<05:52, 18.53s/it]\u001b[A\u001b[A\u001b[A\u001b[A\n",
      "\n",
      "\n",
      "\n",
      " 28%|██▊       | 7/25 [01:46<05:37, 18.73s/it]\u001b[A\u001b[A\u001b[A\u001b[A\n",
      "\n",
      "\n",
      "\n",
      " 32%|███▏      | 8/25 [01:57<04:40, 16.47s/it]\u001b[A\u001b[A\u001b[A\u001b[A\n",
      "\n",
      "\n",
      "\n",
      " 36%|███▌      | 9/25 [02:22<05:06, 19.18s/it]\u001b[A\u001b[A\u001b[A\u001b[A\n",
      "\n",
      "\n",
      "\n",
      " 40%|████      | 10/25 [02:33<04:10, 16.71s/it]\u001b[A\u001b[A\u001b[A\u001b[A\n",
      "\n",
      "\n",
      "\n",
      " 44%|████▍     | 11/25 [02:40<03:10, 13.63s/it]\u001b[A\u001b[A\u001b[A\u001b[A\n",
      "\n",
      "\n",
      "\n",
      " 48%|████▊     | 12/25 [02:43<02:15, 10.40s/it]\u001b[A\u001b[A\u001b[A\u001b[A\n",
      "\n",
      "\n",
      "\n",
      " 52%|█████▏    | 13/25 [02:53<02:02, 10.25s/it]\u001b[A\u001b[A\u001b[A\u001b[A\n",
      "\n",
      "\n",
      "\n",
      " 56%|█████▌    | 14/25 [03:42<04:02, 22.07s/it]\u001b[A\u001b[A\u001b[A\u001b[A\n",
      "\n",
      "\n",
      "\n",
      " 60%|██████    | 15/25 [03:56<03:16, 19.63s/it]\u001b[A\u001b[A\u001b[A\u001b[A\n",
      "\n",
      "\n",
      "\n",
      " 64%|██████▍   | 16/25 [04:03<02:22, 15.81s/it]\u001b[A\u001b[A\u001b[A\u001b[A\n",
      "\n",
      "\n",
      "\n",
      " 68%|██████▊   | 17/25 [04:05<01:32, 11.62s/it]\u001b[A\u001b[A\u001b[A\u001b[A\n",
      "\n",
      "\n",
      "\n",
      " 72%|███████▏  | 18/25 [04:24<01:37, 13.96s/it]\u001b[A\u001b[A\u001b[A\u001b[A\n",
      "\n",
      "\n",
      "\n",
      " 76%|███████▌  | 19/25 [04:30<01:08, 11.40s/it]\u001b[A\u001b[A\u001b[A\u001b[A\n",
      "\n",
      "\n",
      "\n",
      " 80%|████████  | 20/25 [05:11<01:41, 20.20s/it]\u001b[A\u001b[A\u001b[A\u001b[A\n",
      "\n",
      "\n",
      "\n",
      " 84%|████████▍ | 21/25 [05:52<01:46, 26.56s/it]\u001b[A\u001b[A\u001b[A\u001b[A\n",
      "\n",
      "\n",
      "\n",
      " 88%|████████▊ | 22/25 [06:00<01:02, 20.89s/it]\u001b[A\u001b[A\u001b[A\u001b[A\n",
      "\n",
      "\n",
      "\n",
      " 92%|█████████▏| 23/25 [06:04<00:31, 15.96s/it]\u001b[A\u001b[A\u001b[A\u001b[A\n",
      "\n",
      "\n",
      "\n",
      " 96%|█████████▌| 24/25 [06:07<00:12, 12.01s/it]\u001b[A\u001b[A\u001b[A\u001b[A\n",
      "\n",
      "\n",
      "\n",
      "100%|██████████| 25/25 [06:08<00:00,  8.67s/it]\u001b[A\u001b[A\u001b[A\u001b[A\n",
      "\n",
      "\n",
      "\n",
      "\u001b[A\u001b[A\u001b[A\u001b[A"
     ]
    }
   ],
   "source": [
    "with model:\n",
    "    steps = []\n",
    "\n",
    "    steps.append(NUTS(vars=[pi]))\n",
    "    steps.append(NUTS(vars=[Q], scaling=np.ones(M - 1, dtype=np.float64) * 10.))\n",
    "    print \"S\"\n",
    "    steps.append(ForwardS(vars=[S], nObs=nObs, T=T, N=N, observed_jumps=obs_jumps))\n",
    "    print \"B\"\n",
    "    steps.append(NUTS(vars=[B0, B]))\n",
    "    print \"X\"\n",
    "    steps.append(ForwardX(vars=[X], N=N, T=T, K=K, D=D, Dd=Dmax, O=O, nObs=nObs))\n",
    "    print \"Z\"\n",
    "    steps.append(NUTS(vars=[Z]))\n",
    "    print \"L\"\n",
    "    steps.append(NUTS(vars=[L], scaling=np.ones(D)))\n",
    "    print \"sample\"\n",
    "    trace = sample(sampleNum, steps, start=start, random_seed=seed, progressbar=progressbar)\n"
   ]
  },
  {
   "cell_type": "code",
   "execution_count": 51,
   "metadata": {
    "collapsed": false
   },
   "outputs": [],
   "source": [
    "import helpers.forwardS\n",
    "import helpers.forwardX\n",
    "import helpers.transforms\n",
    "#import helpers.distributions\n",
    "reload(helpers.forwardS)\n",
    "reload(helpers.forwardX)\n",
    "reload(helpers.transforms)\n",
    "reload(helpers.distributions)\n",
    "from helpers.forwardS import ForwardS\n",
    "from helpers.forwardX import ForwardX\n",
    "from helpers.distributions import Beta_with_anchors\n",
    "from helpers.distributions import Claims\n",
    "from helpers.distributions import Comorbidities\n",
    "from helpers.distributions import DiscreteObsMJP\n",
    "from helpers.distributions import DiscreteObsMJP_unif_prior\n",
    "from helpers.theanomod import DES_diff\n"
   ]
  },
  {
   "cell_type": "markdown",
   "metadata": {},
   "source": [
    "## Eval Results"
   ]
  },
  {
   "cell_type": "code",
   "execution_count": 9,
   "metadata": {
    "collapsed": true
   },
   "outputs": [],
   "source": [
    "import pymc3 as pm\n",
    "from pymc3 import traceplot\n",
    "import pickle as pkl"
   ]
  },
  {
   "cell_type": "markdown",
   "metadata": {},
   "source": [
    "## Learned Comorbidities"
   ]
  },
  {
   "cell_type": "code",
   "execution_count": 133,
   "metadata": {
    "collapsed": false
   },
   "outputs": [],
   "source": [
    "idx2ICD = {}\n",
    "with open('data/converted/fid.dict', \"r\") as f:\n",
    "    for l in f:\n",
    "        curr_icd =  l.split()\n",
    "        idx2ICD[int(curr_icd[1])] = curr_icd[0]\n",
    "with open('data/converted/anchors.pkl', 'r') as f:\n",
    "    anchor_list = pkl.load(f)\n",
    "with open('data/converted/comorbidityNames.pkl', 'r') as f:\n",
    "    comorbs = pkl.load(f)\n",
    "ICD2txt = {}\n",
    "with open('data/param_init_small/map_icd9.csv', 'r') as f:\n",
    "    for l in f:\n",
    "        cline = l.replace('\"', '').replace('\\n', '').split(\",\")\n",
    "        ICD2txt[cline[0]] = cline[1]"
   ]
  },
  {
   "cell_type": "code",
   "execution_count": 134,
   "metadata": {
    "collapsed": false
   },
   "outputs": [],
   "source": [
    "pi = trace[pi]\n",
    "Q = trace[Q]\n",
    "S = trace[S]\n",
    "B0 = trace[B0]\n",
    "B = trace[B]\n",
    "X = trace[X]\n",
    "Z = trace[Z]\n",
    "L = trace[L]"
   ]
  },
  {
   "cell_type": "code",
   "execution_count": 135,
   "metadata": {
    "collapsed": false
   },
   "outputs": [],
   "source": [
    "final_comorbs = Z[-1]\n",
    "final_leaks = L[-1]"
   ]
  },
  {
   "cell_type": "code",
   "execution_count": 136,
   "metadata": {
    "collapsed": true
   },
   "outputs": [],
   "source": [
    "def top_k_hybrid(a, k):\n",
    "     b = np.argpartition(a, -k)[-k:]\n",
    "     return b[np.argsort(a[b])][::-1]"
   ]
  },
  {
   "cell_type": "code",
   "execution_count": 137,
   "metadata": {
    "collapsed": false
   },
   "outputs": [
    {
     "name": "stdout",
     "output_type": "stream",
     "text": [
      "Leak Term\n",
      "496.0 0.460 Chronic airway obstruction\n",
      "250.0 0.261 Diabetes mellitus without mention of complication\n",
      "272.4 0.249 Other and unspecified hyperlipidemia\n",
      "786.09 0.200 Other respiratory abnormalities\n",
      "786.2 0.185 Cough\n"
     ]
    }
   ],
   "source": [
    "#ind = np.argpartition(final_leaks, -5)[-5:]\n",
    "ind = top_k_hybrid(final_leaks, 5)\n",
    "#print ind # Indices of max values\n",
    "#print final_leaks[ind] # Max values \n",
    "print \"Leak Term\"\n",
    "for i, k in enumerate(ind):\n",
    "    print \"{} {:.3f} {}\".format(idx2ICD[k], final_leaks[k], ICD2txt[idx2ICD[k]])"
   ]
  },
  {
   "cell_type": "code",
   "execution_count": 138,
   "metadata": {
    "collapsed": false
   },
   "outputs": [
    {
     "data": {
      "text/plain": [
       "[(0, [3, 4, 11]), (1, [14]), (2, [13, 15]), (3, [7, 6])]"
      ]
     },
     "execution_count": 138,
     "metadata": {},
     "output_type": "execute_result"
    }
   ],
   "source": [
    "anchor_list"
   ]
  },
  {
   "cell_type": "code",
   "execution_count": 139,
   "metadata": {
    "collapsed": false
   },
   "outputs": [
    {
     "name": "stdout",
     "output_type": "stream",
     "text": [
      "COPD\n",
      "786.05 \t0.036 Shortness of breath\n",
      "272.4 \t0.001 Other and unspecified hyperlipidemia\n",
      "272.0 \t0.000 Pure hypercholesterolemia\n",
      "491.21 \t0.000 *Obstructive chronic bronchitis with (acute) exacerbation\n",
      "786.09 \t0.000 Other respiratory abnormalities\n",
      " ------ \n",
      "Other Lung Diseases\n",
      "272.0 \t0.168 Pure hypercholesterolemia\n",
      "599.0 \t0.025 Urinary tract infection\n",
      "786.2 \t0.000 Cough\n",
      "786.05 \t0.000 Shortness of breath\n",
      "491.2 \t0.000 Obstructive chronic bronchitis\n",
      " ------ \n",
      "Diabetes\n",
      "285.9 \t0.237 Anemia\n",
      "272.4 \t0.000 Other and unspecified hyperlipidemia\n",
      "599.0 \t0.000 Urinary tract infection\n",
      "491.2 \t0.000 Obstructive chronic bronchitis\n",
      "786.05 \t0.000 Shortness of breath\n",
      " ------ \n",
      "Kidney\n",
      "272.4 \t0.111 Other and unspecified hyperlipidemia\n",
      "491.2 \t0.056 Obstructive chronic bronchitis\n",
      "585.9 \t0.029 *Chronic kidney disease\n",
      "585.3 \t0.000 *Chronic kidney disease\n",
      "786.09 \t0.000 Other respiratory abnormalities\n",
      " ------ \n"
     ]
    }
   ],
   "source": [
    "for ix, c in enumerate(comorbs):\n",
    "    ccom = final_comorbs[ix]\n",
    "    ind = top_k_hybrid(ccom, 5)#np.argpartition(ccom, -5)[-5:][::-1]\n",
    "    print c\n",
    "    for i, k in enumerate(ind):\n",
    "        cstar = \"*\" if k in anchor_list[ix][1] else \"\"\n",
    "        print \"{} \\t{:.3f} {}{}\".format(idx2ICD[k], final_comorbs[ix][k], cstar, ICD2txt.get(idx2ICD[k], \"Unknown\"))\n",
    "    print \" ------ \""
   ]
  },
  {
   "cell_type": "markdown",
   "metadata": {},
   "source": [
    "## Trajectories"
   ]
  },
  {
   "cell_type": "code",
   "execution_count": 36,
   "metadata": {
    "collapsed": true
   },
   "outputs": [],
   "source": [
    "Sbin = np.vstack([np.bincount(S[i], minlength=6) / float(len(S[i])) for i in range(len(S))])\n",
    "zeroIndices = np.roll(T.cumsum(), 1)\n",
    "zeroIndices[0] = 0\n",
    "pibar = np.vstack([np.bincount(S[i][zeroIndices], minlength=M) / float(zeroIndices.shape[0]) for i in range(len(S))])\n",
    "pibar = np.vstack([np.bincount(S_start[zeroIndices], minlength=M) / float(zeroIndices.shape[0]), pibar])\n",
    "SEnd = np.vstack([np.bincount(S[i][zeroIndices - 1], minlength=M) / float(zeroIndices.shape[0]) for i in range(len(S))])\n",
    "SEnd = np.vstack([np.bincount(S_start[zeroIndices - 1], minlength=M) / float(zeroIndices.shape[0]), SEnd])\n",
    "# logp = steps[2].logp\n",
    "# Xlogp = steps[4].logp\n",
    "XChanges = np.insert(1 - (1 - (X[:, 1:] - X[:, :-1])).prod(axis=2), 0, 0, axis=1)\n",
    "XChanges.T[zeroIndices] = 0\n",
    "XChanges[XChanges.nonzero()] = XChanges[XChanges.nonzero()] / XChanges[XChanges.nonzero()]\n",
    "XChanges = XChanges.sum(axis=1) / float(N)\n"
   ]
  },
  {
   "cell_type": "markdown",
   "metadata": {},
   "source": [
    "## Convergence"
   ]
  },
  {
   "cell_type": "code",
   "execution_count": 210,
   "metadata": {
    "collapsed": false
   },
   "outputs": [],
   "source": [
    "logpTotal = [model.logp(trace[i]) for i in range(len(trace))]"
   ]
  },
  {
   "cell_type": "code",
   "execution_count": 228,
   "metadata": {
    "collapsed": false
   },
   "outputs": [],
   "source": [
    "relative_change_Q = [np.abs((np.linalg.norm(Q[i])-np.linalg.norm(Q[i+1])))/16\n",
    "                     for i in range(len(Q)-1)]"
   ]
  },
  {
   "cell_type": "code",
   "execution_count": 229,
   "metadata": {
    "collapsed": false
   },
   "outputs": [
    {
     "data": {
      "image/png": "[encoded data removed]",
      "text/plain": [
       "<matplotlib.figure.Figure at 0x14687d650>"
      ]
     },
     "metadata": {},
     "output_type": "display_data"
    }
   ],
   "source": [
    "fig, ax1 = plt.subplots()\n",
    "ax1.plot(relative_change_Q, 'r')\n",
    "ax1.set_xlabel('Outer iteration')\n",
    "# Make the y-axis label, ticks and tick labels match the line color.\n",
    "ax1.set_ylabel('Relative Change in Q', color='r')\n",
    "ax1.tick_params('y', colors='r')\n",
    "ax1.set_ylim([0,0.08])\n",
    "\n",
    "ax2 = ax1.twinx()\n",
    "ax2.plot(logpTotal)\n",
    "ax2.set_ylabel('Complete Log-Likelihood')\n",
    "ax2.tick_params('y')\n",
    "\n",
    "fig.tight_layout()\n",
    "plt.show()"
   ]
  },
  {
   "cell_type": "code",
   "execution_count": 204,
   "metadata": {
    "collapsed": false
   },
   "outputs": [
    {
     "data": {
      "text/plain": [
       "[]"
      ]
     },
     "execution_count": 204,
     "metadata": {},
     "output_type": "execute_result"
    },
    {
     "data": {
      "image/png": "[encoded data removed]",
      "text/plain": [
       "<matplotlib.figure.Figure at 0x154757790>"
      ]
     },
     "metadata": {},
     "output_type": "display_data"
    }
   ],
   "source": [
    "plt.plot(logpTotal)\n",
    "plt.plot(relative_change_Q)\n",
    "plt.plot()"
   ]
  },
  {
   "cell_type": "code",
   "execution_count": 167,
   "metadata": {
    "collapsed": false
   },
   "outputs": [
    {
     "data": {
      "text/plain": [
       "array([[ 0,  1,  2, ..., -1, -1, -1],\n",
       "       [ 3,  4,  1, ..., -1, -1, -1],\n",
       "       [ 1,  2, -1, ..., -1, -1, -1],\n",
       "       ..., \n",
       "       [12, -1, -1, ..., -1, -1, -1],\n",
       "       [ 3,  5,  9, ..., -1, -1, -1],\n",
       "       [ 3, 10,  9, ..., -1, -1, -1]])"
      ]
     },
     "execution_count": 167,
     "metadata": {},
     "output_type": "execute_result"
    }
   ],
   "source": [
    "O"
   ]
  },
  {
   "cell_type": "code",
   "execution_count": null,
   "metadata": {
    "collapsed": true
   },
   "outputs": [],
   "source": []
  }
 ],
 "metadata": {
  "anaconda-cloud": {},
  "kernelspec": {
   "display_name": "Python [conda root]",
   "language": "python",
   "name": "conda-root-py"
  },
  "language_info": {
   "codemirror_mode": {
    "name": "ipython",
    "version": 2
   },
   "file_extension": ".py",
   "mimetype": "text/x-python",
   "name": "python",
   "nbconvert_exporter": "python",
   "pygments_lexer": "ipython2",
   "version": "2.7.12"
  }
 },
 "nbformat": 4,
 "nbformat_minor": 1
}
